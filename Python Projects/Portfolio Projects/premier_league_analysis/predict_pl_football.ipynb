{
 "cells": [
  {
   "cell_type": "code",
   "execution_count": 1,
   "metadata": {},
   "outputs": [],
   "source": [
    "import pandas as pd"
   ]
  },
  {
   "cell_type": "code",
   "execution_count": 2,
   "metadata": {},
   "outputs": [],
   "source": [
    "matches = pd.read_csv('matches.csv')"
   ]
  },
  {
   "cell_type": "code",
   "execution_count": 6,
   "metadata": {},
   "outputs": [
    {
     "data": {
      "text/plain": [
       "Team\n",
       "Liverpool                   114\n",
       "Southampton                 114\n",
       "Watford                     114\n",
       "Bournemouth                 114\n",
       "West Ham United             114\n",
       "Brighton and Hove Albion    114\n",
       "Manchester City             114\n",
       "Newcastle United            114\n",
       "Everton                     114\n",
       "Crystal Palace              114\n",
       "Burnley                     114\n",
       "Arsenal                     114\n",
       "Tottenham Hotspur           114\n",
       "Leicester City              114\n",
       "Chelsea                     114\n",
       "Manchester United           114\n",
       "Wolverhampton Wanderers      76\n",
       "Huddersfield Town            76\n",
       "Sheffield United             38\n",
       "Aston Villa                  38\n",
       "Norwich City                 38\n",
       "Cardiff City                 38\n",
       "Fulham                       38\n",
       "Swansea City                 38\n",
       "Stoke City                   38\n",
       "West Bromwich Albion         38\n",
       "Name: count, dtype: int64"
      ]
     },
     "execution_count": 6,
     "metadata": {},
     "output_type": "execute_result"
    }
   ],
   "source": [
    "matches.shape\n",
    "matches['Team'].value_counts()"
   ]
  },
  {
   "cell_type": "code",
   "execution_count": null,
   "metadata": {},
   "outputs": [],
   "source": []
  }
 ],
 "metadata": {
  "kernelspec": {
   "display_name": "Python 3",
   "language": "python",
   "name": "python3"
  },
  "language_info": {
   "codemirror_mode": {
    "name": "ipython",
    "version": 3
   },
   "file_extension": ".py",
   "mimetype": "text/x-python",
   "name": "python",
   "nbconvert_exporter": "python",
   "pygments_lexer": "ipython3",
   "version": "3.10.13"
  }
 },
 "nbformat": 4,
 "nbformat_minor": 2
}
